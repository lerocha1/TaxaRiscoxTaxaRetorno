{
 "cells": [
  {
   "cell_type": "code",
   "execution_count": 59,
   "id": "4f6c73dd",
   "metadata": {},
   "outputs": [],
   "source": [
    "import pandas as pd\n",
    "import numpy as np\n",
    "import matplotlib.pyplot as plt\n",
    "import datetime\n",
    "import yfinance as yf\n",
    "import requests\n",
    "from scipy.stats import norm\n",
    "from io import StringIO\n",
    "import seaborn as sns\n",
    "import warnings"
   ]
  },
  {
   "cell_type": "code",
   "execution_count": 60,
   "id": "83b504f5",
   "metadata": {},
   "outputs": [],
   "source": [
    "warnings.filterwarnings('ignore')\n",
    "plt.rcParams['figure.figsize'] = (10,6)"
   ]
  },
  {
   "cell_type": "code",
   "execution_count": 61,
   "id": "b5c53721",
   "metadata": {},
   "outputs": [
    {
     "data": {
      "image/png": "[encoded data removed]",
      "text/plain": [
       "<Figure size 720x432 with 1 Axes>"
      ]
     },
     "metadata": {
      "needs_background": "light"
     },
     "output_type": "display_data"
    }
   ],
   "source": [
    "mean = 0\n",
    "std_dev = 1\n",
    "x = np.arange(-5,5,0.01)\n",
    "y = norm.pdf(x, mean, std_dev)\n",
    "pdf = plt.plot(x,y)\n",
    "min_ylim,max_ylim = plt.ylim()\n",
    "plt.text(np.percentile(x, 5), max_ylim * 0.9, '95%:${:.4f}'\n",
    "         .format(np.percentile(x, 5)))\n",
    "plt.axvline(np.percentile(x, 5), color='r', linestyle='dashed', linewidth=4)\n",
    "plt.title('Exemplo do valor de Risco')\n",
    "plt.show()"
   ]
  },
  {
   "cell_type": "code",
   "execution_count": 62,
   "id": "8df3fb3d",
   "metadata": {},
   "outputs": [],
   "source": [
    "def getDailyData(symbol):\n",
    "    parameters={'function':'TIME_SERIES_DAILY_ADJUSTED',\n",
    "                'symbol':symbol,\n",
    "                'outputsize':'full',\n",
    "                'datatype':'csv',\n",
    "                'apikey':'88QV0UDS66VHVOZ6'}\n",
    "    response =requests.get('https://www.alphavantage.co/query', params=parameters)\n",
    "    csvText = StringIO(response.text)\n",
    "    data = pd.read_csv(csvText, index_col='timestamp')\n",
    "    return data"
   ]
  },
  {
   "cell_type": "code",
   "execution_count": 63,
   "id": "67f1ede4",
   "metadata": {},
   "outputs": [],
   "source": [
    "symbols = ['IBM', 'MSFT', 'INTC']\n",
    "data3 =[]"
   ]
  },
  {
   "cell_type": "code",
   "execution_count": 65,
   "id": "30bb04e8",
   "metadata": {},
   "outputs": [],
   "source": [
    "for symbol in symbols:\n",
    "    data3.append(getDailyData(symbol)[::-1]['close']['2020-01-01': '2020-12-31'])\n",
    "stocks = pd.DataFrame(data3).T\n",
    "stocks.columns = symbols"
   ]
  },
  {
   "cell_type": "code",
   "execution_count": 66,
   "id": "a6f90c00",
   "metadata": {},
   "outputs": [
    {
     "data": {
      "text/html": [
       "<div>\n",
       "<style scoped>\n",
       "    .dataframe tbody tr th:only-of-type {\n",
       "        vertical-align: middle;\n",
       "    }\n",
       "\n",
       "    .dataframe tbody tr th {\n",
       "        vertical-align: top;\n",
       "    }\n",
       "\n",
       "    .dataframe thead th {\n",
       "        text-align: right;\n",
       "    }\n",
       "</style>\n",
       "<table border=\"1\" class=\"dataframe\">\n",
       "  <thead>\n",
       "    <tr style=\"text-align: right;\">\n",
       "      <th></th>\n",
       "      <th>IBM</th>\n",
       "      <th>MSFT</th>\n",
       "      <th>INTC</th>\n",
       "    </tr>\n",
       "    <tr>\n",
       "      <th>timestamp</th>\n",
       "      <th></th>\n",
       "      <th></th>\n",
       "      <th></th>\n",
       "    </tr>\n",
       "  </thead>\n",
       "  <tbody>\n",
       "    <tr>\n",
       "      <th>2020-01-02</th>\n",
       "      <td>135.42</td>\n",
       "      <td>160.62</td>\n",
       "      <td>60.84</td>\n",
       "    </tr>\n",
       "    <tr>\n",
       "      <th>2020-01-03</th>\n",
       "      <td>134.34</td>\n",
       "      <td>158.62</td>\n",
       "      <td>60.10</td>\n",
       "    </tr>\n",
       "    <tr>\n",
       "      <th>2020-01-06</th>\n",
       "      <td>134.10</td>\n",
       "      <td>159.03</td>\n",
       "      <td>59.93</td>\n",
       "    </tr>\n",
       "    <tr>\n",
       "      <th>2020-01-07</th>\n",
       "      <td>134.19</td>\n",
       "      <td>157.58</td>\n",
       "      <td>58.93</td>\n",
       "    </tr>\n",
       "    <tr>\n",
       "      <th>2020-01-08</th>\n",
       "      <td>135.31</td>\n",
       "      <td>160.09</td>\n",
       "      <td>58.97</td>\n",
       "    </tr>\n",
       "  </tbody>\n",
       "</table>\n",
       "</div>"
      ],
      "text/plain": [
       "               IBM    MSFT   INTC\n",
       "timestamp                        \n",
       "2020-01-02  135.42  160.62  60.84\n",
       "2020-01-03  134.34  158.62  60.10\n",
       "2020-01-06  134.10  159.03  59.93\n",
       "2020-01-07  134.19  157.58  58.93\n",
       "2020-01-08  135.31  160.09  58.97"
      ]
     },
     "execution_count": 66,
     "metadata": {},
     "output_type": "execute_result"
    }
   ],
   "source": [
    "stocks.head()"
   ]
  },
  {
   "cell_type": "code",
   "execution_count": 68,
   "id": "4bcb7de2",
   "metadata": {},
   "outputs": [
    {
     "data": {
      "text/html": [
       "<div>\n",
       "<style scoped>\n",
       "    .dataframe tbody tr th:only-of-type {\n",
       "        vertical-align: middle;\n",
       "    }\n",
       "\n",
       "    .dataframe tbody tr th {\n",
       "        vertical-align: top;\n",
       "    }\n",
       "\n",
       "    .dataframe thead th {\n",
       "        text-align: right;\n",
       "    }\n",
       "</style>\n",
       "<table border=\"1\" class=\"dataframe\">\n",
       "  <thead>\n",
       "    <tr style=\"text-align: right;\">\n",
       "      <th></th>\n",
       "      <th>IBM</th>\n",
       "      <th>MSFT</th>\n",
       "      <th>INTC</th>\n",
       "    </tr>\n",
       "    <tr>\n",
       "      <th>timestamp</th>\n",
       "      <th></th>\n",
       "      <th></th>\n",
       "      <th></th>\n",
       "    </tr>\n",
       "  </thead>\n",
       "  <tbody>\n",
       "    <tr>\n",
       "      <th>2020-01-03</th>\n",
       "      <td>-0.008007</td>\n",
       "      <td>-0.012530</td>\n",
       "      <td>-0.012238</td>\n",
       "    </tr>\n",
       "    <tr>\n",
       "      <th>2020-01-06</th>\n",
       "      <td>-0.001788</td>\n",
       "      <td>0.002581</td>\n",
       "      <td>-0.002833</td>\n",
       "    </tr>\n",
       "    <tr>\n",
       "      <th>2020-01-07</th>\n",
       "      <td>0.000671</td>\n",
       "      <td>-0.009160</td>\n",
       "      <td>-0.016827</td>\n",
       "    </tr>\n",
       "    <tr>\n",
       "      <th>2020-01-08</th>\n",
       "      <td>0.008312</td>\n",
       "      <td>0.015803</td>\n",
       "      <td>0.000679</td>\n",
       "    </tr>\n",
       "    <tr>\n",
       "      <th>2020-01-09</th>\n",
       "      <td>0.010513</td>\n",
       "      <td>0.012416</td>\n",
       "      <td>0.005580</td>\n",
       "    </tr>\n",
       "    <tr>\n",
       "      <th>...</th>\n",
       "      <td>...</td>\n",
       "      <td>...</td>\n",
       "      <td>...</td>\n",
       "    </tr>\n",
       "    <tr>\n",
       "      <th>2020-12-24</th>\n",
       "      <td>0.006356</td>\n",
       "      <td>0.007797</td>\n",
       "      <td>0.010679</td>\n",
       "    </tr>\n",
       "    <tr>\n",
       "      <th>2020-12-28</th>\n",
       "      <td>0.001042</td>\n",
       "      <td>0.009873</td>\n",
       "      <td>0.000000</td>\n",
       "    </tr>\n",
       "    <tr>\n",
       "      <th>2020-12-29</th>\n",
       "      <td>-0.008205</td>\n",
       "      <td>-0.003607</td>\n",
       "      <td>0.048112</td>\n",
       "    </tr>\n",
       "    <tr>\n",
       "      <th>2020-12-30</th>\n",
       "      <td>0.004352</td>\n",
       "      <td>-0.011081</td>\n",
       "      <td>-0.013043</td>\n",
       "    </tr>\n",
       "    <tr>\n",
       "      <th>2020-12-31</th>\n",
       "      <td>0.012309</td>\n",
       "      <td>0.003333</td>\n",
       "      <td>0.021711</td>\n",
       "    </tr>\n",
       "  </tbody>\n",
       "</table>\n",
       "<p>252 rows × 3 columns</p>\n",
       "</div>"
      ],
      "text/plain": [
       "                 IBM      MSFT      INTC\n",
       "timestamp                               \n",
       "2020-01-03 -0.008007 -0.012530 -0.012238\n",
       "2020-01-06 -0.001788  0.002581 -0.002833\n",
       "2020-01-07  0.000671 -0.009160 -0.016827\n",
       "2020-01-08  0.008312  0.015803  0.000679\n",
       "2020-01-09  0.010513  0.012416  0.005580\n",
       "...              ...       ...       ...\n",
       "2020-12-24  0.006356  0.007797  0.010679\n",
       "2020-12-28  0.001042  0.009873  0.000000\n",
       "2020-12-29 -0.008205 -0.003607  0.048112\n",
       "2020-12-30  0.004352 -0.011081 -0.013043\n",
       "2020-12-31  0.012309  0.003333  0.021711\n",
       "\n",
       "[252 rows x 3 columns]"
      ]
     },
     "execution_count": 68,
     "metadata": {},
     "output_type": "execute_result"
    }
   ],
   "source": [
    "stocks_returns = (np.log(stocks) - np.log(stocks.shift(1))).dropna()\n",
    "stocks_returns"
   ]
  },
  {
   "cell_type": "code",
   "execution_count": 69,
   "id": "ae99c6ca",
   "metadata": {},
   "outputs": [],
   "source": [
    "stocks_returns_mean = stocks_returns.mean()\n",
    "weights = np.random.random(len(stocks_returns.columns))\n",
    "weights /=np.sum(weights)\n",
    "cov_var = stocks_returns.cov()\n",
    "port_std = np.sqrt(weights.T.dot(cov_var).dot(weights))"
   ]
  },
  {
   "cell_type": "code",
   "execution_count": 70,
   "id": "562b2db1",
   "metadata": {},
   "outputs": [],
   "source": [
    "initial_investment = 1e6\n",
    "conf_level = 0.95"
   ]
  },
  {
   "cell_type": "code",
   "execution_count": 77,
   "id": "6ee13850",
   "metadata": {},
   "outputs": [],
   "source": [
    "def VaR_parametric(initial_investment, conf_level):\n",
    "             alpha = norm.ppf(1 - conf_level, stocks_returns_mean, port_std)\n",
    "             for i, j in zip(stocks.columns, range(len(stocks.columns))):\n",
    "                 VaR_param = (initial_investment - initial_investment * (1 + alpha))\n",
    "                 print(\"Parametric VaR result for {} is {} \".format(i, VaR_param))\n",
    "             VaR_param = (initial_investment-initial_investment * (1 + alpha))\n",
    "             print('--' * 25)\n",
    "             return VaR_param"
   ]
  },
  {
   "cell_type": "code",
   "execution_count": 78,
   "id": "8a4fbd3f",
   "metadata": {},
   "outputs": [
    {
     "name": "stdout",
     "output_type": "stream",
     "text": [
      "Parametric VaR result for IBM is [44692.1635787  43110.50426326 45195.25472829] \n",
      "Parametric VaR result for MSFT is [44692.1635787  43110.50426326 45195.25472829] \n",
      "Parametric VaR result for INTC is [44692.1635787  43110.50426326 45195.25472829] \n",
      "--------------------------------------------------\n"
     ]
    },
    {
     "data": {
      "text/plain": [
       "array([44692.1635787 , 43110.50426326, 45195.25472829])"
      ]
     },
     "execution_count": 78,
     "metadata": {},
     "output_type": "execute_result"
    }
   ],
   "source": [
    "VaR_param = VaR_parametric(initial_investment, conf_level)\n",
    "VaR_param"
   ]
  },
  {
   "cell_type": "code",
   "execution_count": 80,
   "id": "6872203a",
   "metadata": {},
   "outputs": [
    {
     "data": {
      "image/png": "[encoded data removed]",
      "text/plain": [
       "<Figure size 720x432 with 1 Axes>"
      ]
     },
     "metadata": {
      "needs_background": "light"
     },
     "output_type": "display_data"
    }
   ],
   "source": [
    "var_horizon = []\n",
    "time_horizon = 30\n",
    "for j in range(len(stocks_returns.columns)):\n",
    "    for i in range(1, time_horizon):\n",
    "        var_horizon.append(VaR_param[j] * np.sqrt(i))\n",
    "plt.plot(var_horizon[:time_horizon], \"o\",\n",
    "                  c='blue', marker='*', label='IBM')\n",
    "plt.plot(var_horizon[time_horizon:time_horizon + 30], \"o\",\n",
    "                  c='green', marker='o', label='MSFT')\n",
    "plt.plot(var_horizon[time_horizon + 30:time_horizon + 60], \"o\",\n",
    "                  c='red', marker='v', label='INTC')\n",
    "plt.xlabel(\"Days\")\n",
    "plt.ylabel(\"USD\")\n",
    "plt.title(\"VaR over 30-day period\")\n",
    "    #plt.savefig('images/VaR_30_day.png')\n",
    "plt.legend()\n",
    "plt.show()\n",
    "        "
   ]
  },
  {
   "cell_type": "code",
   "execution_count": null,
   "id": "ae8e92ed",
   "metadata": {},
   "outputs": [],
   "source": []
  },
  {
   "cell_type": "code",
   "execution_count": null,
   "id": "473fb0ae",
   "metadata": {},
   "outputs": [],
   "source": []
  },
  {
   "cell_type": "code",
   "execution_count": null,
   "id": "d6f65a0c",
   "metadata": {},
   "outputs": [],
   "source": []
  }
 ],
 "metadata": {
  "kernelspec": {
   "display_name": "Python 3",
   "language": "python",
   "name": "python3"
  },
  "language_info": {
   "codemirror_mode": {
    "name": "ipython",
    "version": 3
   },
   "file_extension": ".py",
   "mimetype": "text/x-python",
   "name": "python",
   "nbconvert_exporter": "python",
   "pygments_lexer": "ipython3",
   "version": "3.8.8"
  }
 },
 "nbformat": 4,
 "nbformat_minor": 5
}
